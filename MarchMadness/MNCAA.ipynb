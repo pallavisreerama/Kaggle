{
 "cells": [
  {
   "cell_type": "code",
   "execution_count": 1,
   "metadata": {
    "collapsed": true
   },
   "outputs": [],
   "source": [
    "import pandas as pd \n",
    "%matplotlib inline\n",
    "import matplotlib.pyplot as plt\n",
    "import numpy as np\n"
   ]
  },
  {
   "cell_type": "code",
   "execution_count": 2,
   "metadata": {},
   "outputs": [
    {
     "data": {
      "text/plain": [
       "TeamID            int64\n",
       "TeamName         object\n",
       "FirstD1Season     int64\n",
       "LastD1Season      int64\n",
       "dtype: object"
      ]
     },
     "execution_count": 2,
     "metadata": {},
     "output_type": "execute_result"
    }
   ],
   "source": [
    "RegSeasonResults = pd.read_csv(\"/Users/pallavisreerama/Downloads/Stage2UpdatedDataFiles/RegularSeasonCompactResults.csv\")\n",
    "teams = pd.read_csv(\"teams.csv\")\n",
    "teams.dtypes"
   ]
  },
  {
   "cell_type": "code",
   "execution_count": 3,
   "metadata": {
    "collapsed": true
   },
   "outputs": [],
   "source": [
    "RegSeasonResults['WLocCode'] = 1 \n",
    "# data['sex'].replace([0,1],['Female','Male'],inplace=True)\n",
    "RegSeasonResults.WLoc.replace('N',0,inplace=True)\n",
    "RegSeasonResults.WLoc.replace('A',-1,inplace=True)\n",
    "RegSeasonResults.WLoc.replace('H',1,inplace=True)\n",
    "\n"
   ]
  },
  {
   "cell_type": "code",
   "execution_count": 4,
   "metadata": {
    "collapsed": true
   },
   "outputs": [],
   "source": [
    "seasonNumber = 1985\n",
    "index_for_each_year = []\n",
    "index_for_each_year.append(0)\n",
    "for i in RegSeasonResults.iterrows():\n",
    "    if(i[1].Season == seasonNumber+1):\n",
    "        index_for_each_year.append(i[0])\n",
    "        seasonNumber = seasonNumber + 1\n",
    "index_for_each_year.append(len(RegSeasonResults)-1)\n"
   ]
  },
  {
   "cell_type": "code",
   "execution_count": 5,
   "metadata": {
    "collapsed": true
   },
   "outputs": [],
   "source": [
    "RegSeasonResults['WElo'] = 0.000000000000 \n",
    "RegSeasonResults['LElo'] = 0.000000000000\n",
    "seasonNumber = 1985\n",
    "for i in range(len(index_for_each_year)-1):\n",
    "    temp = RegSeasonResults[index_for_each_year[i]:index_for_each_year[i+1]]\n",
    "    elo_dict = {}\n",
    "    k = 20    \n",
    "    for j in teams.TeamID:\n",
    "        elo_dict[j] = 1000\n",
    "    x = 0\n",
    "    for j in temp.iterrows():\n",
    "    ###########################################################################################\n",
    "    #######New logic####### \n",
    "    \n",
    "        winner_rating = pow(10,(elo_dict[j[1].WTeamID])/400)\n",
    "        loser_rating = pow(10,(elo_dict[j[1].LTeamID])/400)\n",
    "    \n",
    "        expected_winner = winner_rating/(winner_rating+loser_rating) \n",
    "        expected_loser = loser_rating/(winner_rating+loser_rating)\n",
    "    \n",
    "        winner = 1\n",
    "        loser = 0\n",
    "    \n",
    "        new_winner_rating = elo_dict[j[1].WTeamID] + k * (winner-expected_winner)\n",
    "        new_loser_rating = elo_dict[j[1].LTeamID] + k * (loser-expected_loser)\n",
    "\n",
    "\n",
    "        elo_dict[j[1].WTeamID] = new_winner_rating\n",
    "        elo_dict[j[1].LTeamID] = new_loser_rating\n",
    "\n",
    "        \n",
    "        temp.iat[x,9] = new_winner_rating\n",
    "        temp.iat[x,10] = new_loser_rating\n",
    "\n",
    "        x = x + 1\n",
    "    \n",
    "    row_incr = 0\n",
    "    teams[str(i+1985)] = 0.000000000000\n",
    "    for row in teams.iterrows():\n",
    "        teams.iat[row_incr,i+4] = elo_dict[row[1].TeamID]\n",
    "        row_incr = row_incr + 1\n",
    "#     if (j[1].WTeamID == 1102 or j[1].LTeamID == 1102):\n",
    "#         print (j[1].WScore)\n",
    "#         print (j[1].LScore)\n",
    "#         print(elo_dict[1102])\n",
    "    \n"
   ]
  },
  {
   "cell_type": "code",
   "execution_count": 6,
   "metadata": {
    "collapsed": true
   },
   "outputs": [],
   "source": [
    "Submission = pd.read_csv('/Users/pallavisreerama/Downloads/SampleSubmissionStage2.csv')\n"
   ]
  },
  {
   "cell_type": "code",
   "execution_count": 7,
   "metadata": {
    "collapsed": true
   },
   "outputs": [],
   "source": [
    "Submission['Welo'] = 0.000000000\n",
    "Submission['Lelo'] = 0.000000000\n",
    "Submission['normWelo'] = 0.000000000\n",
    "Submission['normLelo'] = 0.000000000\n"
   ]
  },
  {
   "cell_type": "code",
   "execution_count": 8,
   "metadata": {
    "collapsed": true,
    "scrolled": true
   },
   "outputs": [],
   "source": [
    "minelo = 100\n",
    "maxelo = -100\n",
    "team_min = 0\n",
    "team_max = 0\n",
    "for i in Submission.iterrows():\n",
    "    game = i[1].ID.split('_')\n",
    "    temp = np.array(teams[teams['TeamID']==int(game[1])]['2018'])\n",
    "    if (temp[0]<minelo):\n",
    "        minelo = temp[0]\n",
    "        t_min = int(game[1])\n",
    "    if (temp[0]>maxelo):\n",
    "        maxelo = temp[0]\n",
    "        t_max = int(game[1])\n",
    "    \n",
    "  \n",
    "    \n",
    "    "
   ]
  },
  {
   "cell_type": "code",
   "execution_count": 9,
   "metadata": {
    "collapsed": true
   },
   "outputs": [],
   "source": [
    "counter = 0\n",
    "for i in Submission.iterrows():\n",
    "    game = i[1].ID.split('_')\n",
    "    temp1 = np.array(teams[teams['TeamID']==int(game[1])]['2018'])\n",
    "    temp2 = np.array(teams[teams['TeamID']==int(game[2])]['2018'])\n",
    "    Submission.iat[counter,2] = temp1\n",
    "    Submission.iat[counter,3] = temp2\n",
    "    counter = counter+1\n"
   ]
  },
  {
   "cell_type": "code",
   "execution_count": 10,
   "metadata": {},
   "outputs": [
    {
     "name": "stdout",
     "output_type": "stream",
     "text": [
      "1221.13592625 100\n",
      "                  ID  Pred         Welo         Lelo  normWelo  normLelo\n",
      "0     2018_1104_1112   0.5  1047.362758  1158.713576       0.0       0.0\n",
      "1     2018_1104_1113   0.5  1047.362758  1049.173711       0.0       0.0\n",
      "2     2018_1104_1116   0.5  1047.362758  1099.530022       0.0       0.0\n",
      "3     2018_1104_1120   0.5  1047.362758  1120.009877       0.0       0.0\n",
      "4     2018_1104_1137   0.5  1047.362758  1117.691586       0.0       0.0\n",
      "5     2018_1104_1138   0.5  1047.362758  1126.636854       0.0       0.0\n",
      "6     2018_1104_1139   0.5  1047.362758  1064.844874       0.0       0.0\n",
      "7     2018_1104_1153   0.5  1047.362758  1194.214833       0.0       0.0\n",
      "8     2018_1104_1155   0.5  1047.362758  1103.762458       0.0       0.0\n",
      "9     2018_1104_1158   0.5  1047.362758  1122.146232       0.0       0.0\n",
      "10    2018_1104_1166   0.5  1047.362758  1069.736499       0.0       0.0\n",
      "11    2018_1104_1168   0.5  1047.362758  1048.631115       0.0       0.0\n",
      "12    2018_1104_1172   0.5  1047.362758  1098.488920       0.0       0.0\n",
      "13    2018_1104_1181   0.5  1047.362758  1140.578599       0.0       0.0\n",
      "14    2018_1104_1196   0.5  1047.362758  1070.131777       0.0       0.0\n",
      "15    2018_1104_1199   0.5  1047.362758  1067.536292       0.0       0.0\n",
      "16    2018_1104_1209   0.5  1047.362758  1081.589514       0.0       0.0\n",
      "17    2018_1104_1211   0.5  1047.362758  1184.970537       0.0       0.0\n",
      "18    2018_1104_1222   0.5  1047.362758  1147.054593       0.0       0.0\n",
      "19    2018_1104_1233   0.5  1047.362758  1047.031707       0.0       0.0\n",
      "20    2018_1104_1242   0.5  1047.362758  1162.849173       0.0       0.0\n",
      "21    2018_1104_1243   0.5  1047.362758  1092.712133       0.0       0.0\n",
      "22    2018_1104_1246   0.5  1047.362758  1116.816529       0.0       0.0\n",
      "23    2018_1104_1252   0.5  1047.362758  1076.675144       0.0       0.0\n",
      "24    2018_1104_1254   0.5  1047.362758  1016.082789       0.0       0.0\n",
      "25    2018_1104_1260   0.5  1047.362758  1160.940583       0.0       0.0\n",
      "26    2018_1104_1267   0.5  1047.362758  1097.437962       0.0       0.0\n",
      "27    2018_1104_1274   0.5  1047.362758  1103.890537       0.0       0.0\n",
      "28    2018_1104_1276   0.5  1047.362758  1167.641496       0.0       0.0\n",
      "29    2018_1104_1277   0.5  1047.362758  1179.470845       0.0       0.0\n",
      "...              ...   ...          ...          ...       ...       ...\n",
      "2248  2018_1420_1460   0.5  1087.472948  1085.226994       0.0       0.0\n",
      "2249  2018_1420_1462   0.5  1087.472948  1174.761272       0.0       0.0\n",
      "2250  2018_1422_1437   0.5  1121.853319  1193.920164       0.0       0.0\n",
      "2251  2018_1422_1438   0.5  1121.853319  1221.135926       0.0       0.0\n",
      "2252  2018_1422_1439   0.5  1121.853319  1083.685011       0.0       0.0\n",
      "2253  2018_1422_1452   0.5  1121.853319  1112.332570       0.0       0.0\n",
      "2254  2018_1422_1455   0.5  1121.853319  1137.042912       0.0       0.0\n",
      "2255  2018_1422_1460   0.5  1121.853319  1085.226994       0.0       0.0\n",
      "2256  2018_1422_1462   0.5  1121.853319  1174.761272       0.0       0.0\n",
      "2257  2018_1437_1438   0.5  1193.920164  1221.135926       0.0       0.0\n",
      "2258  2018_1437_1439   0.5  1193.920164  1083.685011       0.0       0.0\n",
      "2259  2018_1437_1452   0.5  1193.920164  1112.332570       0.0       0.0\n",
      "2260  2018_1437_1455   0.5  1193.920164  1137.042912       0.0       0.0\n",
      "2261  2018_1437_1460   0.5  1193.920164  1085.226994       0.0       0.0\n",
      "2262  2018_1437_1462   0.5  1193.920164  1174.761272       0.0       0.0\n",
      "2263  2018_1438_1439   0.5  1221.135926  1083.685011       0.0       0.0\n",
      "2264  2018_1438_1452   0.5  1221.135926  1112.332570       0.0       0.0\n",
      "2265  2018_1438_1455   0.5  1221.135926  1137.042912       0.0       0.0\n",
      "2266  2018_1438_1460   0.5  1221.135926  1085.226994       0.0       0.0\n",
      "2267  2018_1438_1462   0.5  1221.135926  1174.761272       0.0       0.0\n",
      "2268  2018_1439_1452   0.5  1083.685011  1112.332570       0.0       0.0\n",
      "2269  2018_1439_1455   0.5  1083.685011  1137.042912       0.0       0.0\n",
      "2270  2018_1439_1460   0.5  1083.685011  1085.226994       0.0       0.0\n",
      "2271  2018_1439_1462   0.5  1083.685011  1174.761272       0.0       0.0\n",
      "2272  2018_1452_1455   0.5  1112.332570  1137.042912       0.0       0.0\n",
      "2273  2018_1452_1460   0.5  1112.332570  1085.226994       0.0       0.0\n",
      "2274  2018_1452_1462   0.5  1112.332570  1174.761272       0.0       0.0\n",
      "2275  2018_1455_1460   0.5  1137.042912  1085.226994       0.0       0.0\n",
      "2276  2018_1455_1462   0.5  1137.042912  1174.761272       0.0       0.0\n",
      "2277  2018_1460_1462   0.5  1085.226994  1174.761272       0.0       0.0\n",
      "\n",
      "[2278 rows x 6 columns]\n"
     ]
    }
   ],
   "source": [
    "range_of_elo = maxelo - minelo\n",
    "print(maxelo,minelo)\n",
    "print(Submission)"
   ]
  },
  {
   "cell_type": "code",
   "execution_count": 11,
   "metadata": {},
   "outputs": [
    {
     "name": "stdout",
     "output_type": "stream",
     "text": [
      "1221.13592625\n",
      "0.786093669092\n"
     ]
    },
    {
     "data": {
      "text/plain": [
       "<matplotlib.axes._subplots.AxesSubplot at 0x1136d4f98>"
      ]
     },
     "execution_count": 11,
     "metadata": {},
     "output_type": "execute_result"
    },
    {
     "data": {
      "image/png": "[encoded data removed]",
      "text/plain": [
       "<matplotlib.figure.Figure at 0x113707240>"
      ]
     },
     "metadata": {},
     "output_type": "display_data"
    }
   ],
   "source": [
    "print (Submission['Welo'].max())\n",
    "counter2 = 0\n",
    "for i in Submission.iterrows():\n",
    "    Submission.iat[counter2,4] = (i[1].Welo - minelo)/range_of_elo\n",
    "    Submission.iat[counter2,5] = (i[1].Lelo - minelo)/range_of_elo\n",
    "    counter2 = counter2+1\n",
    "print (Submission['normWelo'].min())\n",
    "\n",
    "Submission['normWelo'].hist()"
   ]
  },
  {
   "cell_type": "code",
   "execution_count": 13,
   "metadata": {
    "collapsed": true
   },
   "outputs": [],
   "source": [
    "finalfile = Submission\n"
   ]
  },
  {
   "cell_type": "code",
   "execution_count": 15,
   "metadata": {},
   "outputs": [
    {
     "data": {
      "text/plain": [
       "<matplotlib.axes._subplots.AxesSubplot at 0x11497be80>"
      ]
     },
     "execution_count": 15,
     "metadata": {},
     "output_type": "execute_result"
    },
    {
     "data": {
      "image/png": "[encoded data removed]",
      "text/plain": [
       "<matplotlib.figure.Figure at 0x1149ad198>"
      ]
     },
     "metadata": {},
     "output_type": "display_data"
    }
   ],
   "source": [
    "finalfile['Pred'] = finalfile['normWelo']/(finalfile['normWelo']+finalfile['normLelo'])\n",
    "finalfile['Pred'].hist()"
   ]
  },
  {
   "cell_type": "code",
   "execution_count": 16,
   "metadata": {
    "collapsed": true
   },
   "outputs": [],
   "source": [
    "finalfile = finalfile.drop(['Welo','Lelo','normWelo','normLelo'],axis=1)\n",
    "finalfile['Pred'] = np.where(finalfile['Pred']>=0.5, 1, 0)"
   ]
  },
  {
   "cell_type": "code",
   "execution_count": 17,
   "metadata": {
    "collapsed": true
   },
   "outputs": [],
   "source": [
    "finalfile.to_csv(\"/Users/pallavisreerama/Desktop/submitfilestage2.csv\")"
   ]
  },
  {
   "cell_type": "code",
   "execution_count": null,
   "metadata": {
    "collapsed": true
   },
   "outputs": [],
   "source": []
  },
  {
   "cell_type": "code",
   "execution_count": null,
   "metadata": {
    "collapsed": true
   },
   "outputs": [],
   "source": []
  },
  {
   "cell_type": "code",
   "execution_count": null,
   "metadata": {
    "collapsed": true
   },
   "outputs": [],
   "source": []
  },
  {
   "cell_type": "code",
   "execution_count": null,
   "metadata": {
    "collapsed": true
   },
   "outputs": [],
   "source": []
  },
  {
   "cell_type": "code",
   "execution_count": null,
   "metadata": {
    "collapsed": true
   },
   "outputs": [],
   "source": []
  },
  {
   "cell_type": "code",
   "execution_count": null,
   "metadata": {
    "collapsed": true
   },
   "outputs": [],
   "source": []
  },
  {
   "cell_type": "code",
   "execution_count": null,
   "metadata": {
    "collapsed": true
   },
   "outputs": [],
   "source": []
  },
  {
   "cell_type": "code",
   "execution_count": 8,
   "metadata": {
    "collapsed": true,
    "scrolled": true
   },
   "outputs": [],
   "source": [
    "for j in temp.iterrows():\n",
    "    ###########################################################################################\n",
    "    #######New logic####### \n",
    "    \n",
    "    winner_rating = pow(10,(elo_dict[j[1].WTeamID])/400)\n",
    "    loser_rating = pow(10,(elo_dict[j[1].LTeamID])/400)\n",
    "    \n",
    "    expected_winner = winner_rating/(winner_rating+loser_rating) \n",
    "    expected_loser = loser_rating/(winner_rating+loser_rating)\n",
    "    \n",
    "    winner = 1\n",
    "    loser = 0\n",
    "    \n",
    "    new_winner_rating = elo_dict[j[1].WTeamID] + k * (winner-expected_winner)\n",
    "    new_loser_rating = elo_dict[j[1].LTeamID] + k * (loser-expected_loser)\n",
    "    ###########################################################################################\n",
    "#     a =  1/(1+pow(10,((elo_dict[j[1].WTeamID]-elo_dict[j[1].LTeamID])/100)))\n",
    "#     b =  1/(1+pow(10,((elo_dict[j[1].LTeamID]-elo_dict[j[1].WTeamID])/100)))\n",
    "#     a_new = elo_dict[j[1].WTeamID] + k*(j[1].WScore/100 - a)\n",
    "#     b_new = elo_dict[j[1].LTeamID] - k*(j[1].LScore/100 - b)\n",
    "    elo_dict[j[1].WTeamID] = new_winner_rating\n",
    "    elo_dict[j[1].LTeamID] = new_loser_rating\n",
    "\n",
    "    temp.iat[i,9] = new_winner_rating\n",
    "    temp.iat[i,10] = new_loser_rating\n",
    "\n",
    "    i = i + 1\n",
    "#     if (j[1].WTeamID == 1102 or j[1].LTeamID == 1102):\n",
    "#         print (j[1].WScore)\n",
    "#         print (j[1].LScore)\n",
    "#         print(elo_dict[1102])\n",
    "    "
   ]
  }
 ],
 "metadata": {
  "kernelspec": {
   "display_name": "Python 3",
   "language": "python",
   "name": "python3"
  },
  "language_info": {
   "codemirror_mode": {
    "name": "ipython",
    "version": 3
   },
   "file_extension": ".py",
   "mimetype": "text/x-python",
   "name": "python",
   "nbconvert_exporter": "python",
   "pygments_lexer": "ipython3",
   "version": "3.6.2"
  }
 },
 "nbformat": 4,
 "nbformat_minor": 2
}
